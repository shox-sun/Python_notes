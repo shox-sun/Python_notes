{
 "cells": [
  {
   "cell_type": "markdown",
   "metadata": {},
   "source": [
    "# The self variable in python explained\n",
    "\n",
    "This tutorial is based on [this site](https://pythontips.com/2013/08/07/the-self-variable-in-python-explained/).I was learning DFA about binary tree and I need to store node infromation in a new class. The question is broke into building a easy-to-use class and I think self variable in python is quite necessary. "
   ]
  },
  {
   "cell_type": "code",
   "execution_count": 1,
   "metadata": {},
   "outputs": [],
   "source": [
    "from IPython.core.interactiveshell import InteractiveShell\n",
    "InteractiveShell.ast_node_interactivity = \"all\""
   ]
  },
  {
   "cell_type": "markdown",
   "metadata": {},
   "source": [
    "**A simple class :**\n",
    "\n",
    "So here is our class:"
   ]
  },
  {
   "cell_type": "code",
   "execution_count": 2,
   "metadata": {},
   "outputs": [],
   "source": [
    "class Restaurant(object):\n",
    "    bankrupt = False\n",
    "    def open_branch(self):\n",
    "        if not self.bankrupt:\n",
    "            print(\"branch opened\")"
   ]
  },
  {
   "cell_type": "markdown",
   "metadata": {},
   "source": [
    "We can explain the code without any technicalityies.First we define a class use code above. Then we assign it a property \"bankrupt\" which defaults to be False.After that we define a function called open_branch which can only occur if \"bankrupt\" is False which means the restaurant has some money."
   ]
  },
  {
   "cell_type": "markdown",
   "metadata": {},
   "source": [
    "**Making a restaurant**\n",
    "\n",
    "Now that we have made a class for a Restaurant, lets actually make a restaurant:"
   ]
  },
  {
   "cell_type": "code",
   "execution_count": 3,
   "metadata": {},
   "outputs": [],
   "source": [
    "x = Restaurant()"
   ]
  },
  {
   "cell_type": "markdown",
   "metadata": {},
   "source": [
    "Now x is a Restaurant which has a property bankrupt and a function open_branch. After we define x is a Restaurant, we can access the property bankrupt by typing:"
   ]
  },
  {
   "cell_type": "code",
   "execution_count": 6,
   "metadata": {},
   "outputs": [
    {
     "data": {
      "text/plain": [
       "False"
      ]
     },
     "execution_count": 6,
     "metadata": {},
     "output_type": "execute_result"
    },
    {
     "data": {
      "text/plain": [
       "False"
      ]
     },
     "execution_count": 6,
     "metadata": {},
     "output_type": "execute_result"
    },
    {
     "data": {
      "text/plain": [
       "False"
      ]
     },
     "execution_count": 6,
     "metadata": {},
     "output_type": "execute_result"
    }
   ],
   "source": [
    "x.bankrupt\n",
    "Restaurant().bankrupt\n",
    "Restaurant.bankrupt"
   ]
  },
  {
   "cell_type": "markdown",
   "metadata": {},
   "source": [
    "The first argument of every class method, including **init**, is always a reference to the current instance(实例) of the class. By convention, this argument is always named self. In the **init** method, self refers to the newly created object; in other class methods, it refers to the instance whose method was called. For example the below code is the same as the above code."
   ]
  },
  {
   "cell_type": "markdown",
   "metadata": {},
   "source": [
    "**Free Tip:**\n",
    "\n",
    "However self is not a reserved keyword in python it’s just a strong convention. Many people say that why do we have to write self ? Why can’t we have it set automatically like in Java ? Someone also filed a PEP (improvement suggestion) in which he suggested to remove the explicit assignment of self keyword. However Guido Van Rossum (the maker of python) wrote a [blogpost in which he told why explicit self has to stay](http://neopythonic.blogspot.com/2008/10/why-explicit-self-has-to-stay.html)."
   ]
  },
  {
   "cell_type": "code",
   "execution_count": 8,
   "metadata": {},
   "outputs": [
    {
     "name": "stdout",
     "output_type": "stream",
     "text": [
      "123\n"
     ]
    }
   ],
   "source": [
    "exec('print(123)')"
   ]
  },
  {
   "cell_type": "code",
   "execution_count": 9,
   "metadata": {},
   "outputs": [
    {
     "name": "stdout",
     "output_type": "stream",
     "text": [
      "The sum is: 6\n",
      "Result: 1\n"
     ]
    }
   ],
   "source": [
    "def bar(first, second, third, **options):\n",
    "    if options.get(\"action\") == \"sum\":\n",
    "        print(\"The sum is: %d\" %(first + second + third))\n",
    "\n",
    "    if options.get(\"number\") == \"first\":\n",
    "        return first\n",
    "\n",
    "result = bar(1, 2, 3, action = \"sum\", number = \"first\")\n",
    "print(\"Result: %d\" %(result))"
   ]
  },
  {
   "cell_type": "code",
   "execution_count": 10,
   "metadata": {},
   "outputs": [
    {
     "name": "stdout",
     "output_type": "stream",
     "text": [
      "Good.\n",
      "Better.\n",
      "Great.\n",
      "Awesome!\n"
     ]
    }
   ],
   "source": [
    "# edit the functions prototype and implementation\n",
    "def foo(a, b, c, *args):\n",
    "    return len(args)\n",
    "\n",
    "def bar(a, b, c, **kwargs):\n",
    "    return kwargs[\"magicnumber\"] == 7\n",
    "\n",
    "\n",
    "# test code\n",
    "if foo(1,2,3,4) == 1:\n",
    "    print(\"Good.\")\n",
    "if foo(1,2,3,4,5) == 2:\n",
    "    print(\"Better.\")\n",
    "if bar(1,2,3,magicnumber = 6) == False:\n",
    "    print(\"Great.\")\n",
    "if bar(1,2,3,magicnumber = 7) == True:\n",
    "    print(\"Awesome!\")"
   ]
  },
  {
   "cell_type": "code",
   "execution_count": null,
   "metadata": {},
   "outputs": [],
   "source": []
  }
 ],
 "metadata": {
  "kernelspec": {
   "display_name": "Python 3",
   "language": "python",
   "name": "python3"
  },
  "language_info": {
   "codemirror_mode": {
    "name": "ipython",
    "version": 3
   },
   "file_extension": ".py",
   "mimetype": "text/x-python",
   "name": "python",
   "nbconvert_exporter": "python",
   "pygments_lexer": "ipython3",
   "version": "3.7.1"
  },
  "widgets": {
   "application/vnd.jupyter.widget-state+json": {
    "state": {},
    "version_major": 2,
    "version_minor": 0
   }
  }
 },
 "nbformat": 4,
 "nbformat_minor": 2
}
